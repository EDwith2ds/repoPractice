{
 "cells": [
  {
   "cell_type": "code",
   "execution_count": null,
   "metadata": {},
   "outputs": [],
   "source": [
    "import pandas as pd\n",
    "import seaborn as sns\n",
    "import matplotlib.pyplot as plt \n",
    "\n",
    "df = pd.read_csv(r\"\", index_col=0)\n",
    "df"
   ]
  },
  {
   "cell_type": "code",
   "execution_count": null,
   "metadata": {},
   "outputs": [],
   "source": [
    "# add plots next time you come around\n",
    "fig, axes = plt.subplots(3, 2)\n",
    "sns.boxplot(x=, y=, data=, ax=axes[0,0])\n",
    "sns.boxplot(x=, y=, data=, ax=axes[0,1])\n",
    "sns.boxplot(x=, y=, data=, ax=axes[1,0])\n",
    "sns.boxplot(x=, y=, data=, ax=axes[1,1])\n",
    "sns.boxplot(x=, y=, data=, ax=axes[2,0])\n",
    "sns.boxplot(x=, y=, data=, ax=axes[2,1])\n",
    "plt.show()"
   ]
  }
 ],
 "metadata": {
  "language_info": {
   "name": "python"
  },
  "orig_nbformat": 4
 },
 "nbformat": 4,
 "nbformat_minor": 2
}
